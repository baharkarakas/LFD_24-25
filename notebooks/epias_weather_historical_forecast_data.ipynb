{
 "cells": [
  {
   "cell_type": "markdown",
   "metadata": {
    "pycharm": {
     "name": "#%% md\n"
    }
   },
   "source": [
    "## Example Data Collection code: \n",
    "#### Obtaining  WEATHER data for certain date intervals and future forecasts.\n",
    "#### Just obtain API keys for yourself and get your own data for the datetime interval you desired. "
   ]
  },
  {
   "cell_type": "markdown",
   "metadata": {
    "pycharm": {
     "name": "#%% md\n"
    }
   },
   "source": [
    "## Geçmiş hava durumu"
   ]
  },
  {
   "cell_type": "code",
   "execution_count": 18,
   "metadata": {
    "ExecuteTime": {
     "end_time": "2024-04-19T13:11:00.366989100Z",
     "start_time": "2024-04-19T13:11:00.322990100Z"
    },
    "pycharm": {
     "name": "#%%\n"
    }
   },
   "source": [
    "def get_historical_weather_data(api,city_name,city_id,start_date):\n",
    "    import json\n",
    "    import requests\n",
    "    date_now=dt.datetime.now().strftime(\"%Y-%m-%d:%H\")\n",
    "    url=\"https://api.weatherbit.io/v2.0/history/hourly?city_id=\"+city_id+\"&start_date=\"+start_date+\"&end_date=\"+date_now+\"&tz=local&key=\"+api\n",
    "    response = requests.get(url)\n",
    "    response.text\n",
    "    d = json.loads(response.text)\n",
    "    print(url) #take 2 hours more based on api location and Istanbul time\n",
    "    datetime = [i[\"datetime\"] for i in d[\"data\"]]\n",
    "    humidity = [i[\"rh\"] for i in d[\"data\"]]\n",
    "    temp = [i[\"temp\"] for i in d[\"data\"]]\n",
    "    data=pd.DataFrame()\n",
    "    data[\"Tarih\"]=datetime\n",
    "    data[city_name+\"_temp\"]=temp\n",
    "    data[city_name+\"_humidity\"]=humidity\n",
    "    return data.iloc[2:]  # take 2 forward based on api location and Istanbul time"
   ],
   "outputs": []
  },
  {
   "cell_type": "code",
   "execution_count": 20,
   "metadata": {
    "ExecuteTime": {
     "end_time": "2024-04-19T13:11:54.786525400Z",
     "start_time": "2024-04-19T13:11:33.931885400Z"
    },
    "collapsed": true,
    "pycharm": {
     "name": "#%%\n"
    }
   },
   "source": [
    "api = \"22d709aca2744ebeba3645b5e636edd1\" #optain your own API KEY and use it within its lifetime\n",
    "start_date=\"2019-01-01\"\n",
    "IstanbulAnadolu = get_historical_weather_data(api,\"Istanbul_anadolu\",'745044',start_date)\n",
    "IstanbulAvrupa  = get_historical_weather_data(api,\"Istanbul_avrupa\",'745044',start_date)\n",
    "Bursa           = get_historical_weather_data(api,\"Bursa\",'750269',start_date)\n",
    "historical_weather_orj = pd.concat([IstanbulAnadolu,IstanbulAvrupa,Bursa],axis=1)\n",
    "\n",
    "historical_weather=historical_weather_orj.copy()\n",
    "historical_weather[\"Tarih\"]=historical_weather.pop(\"Tarih\").iloc[:,1]\n",
    "\n",
    "historical_weather.Tarih=historical_weather.Tarih.apply(lambda x: pd.to_datetime(x[:10]+\" \"+str(x[-2:])+ \":00\"))\n"
   ],
   "outputs": []
  },
  {
   "cell_type": "code",
   "execution_count": 21,
   "metadata": {
    "ExecuteTime": {
     "end_time": "2024-04-19T13:12:06.054395700Z",
     "start_time": "2024-04-19T13:12:05.914395200Z"
    }
   },
   "source": [
    "historical_weather"
   ],
   "outputs": []
  },
  {
   "cell_type": "markdown",
   "metadata": {
    "pycharm": {
     "name": "#%% md\n"
    }
   },
   "source": [
    "### Gelecek Hava tahmini"
   ]
  },
  {
   "cell_type": "code",
   "execution_count": 37,
   "metadata": {
    "pycharm": {
     "name": "#%%\n"
    }
   },
   "source": [
    "import requests\n",
    "import pandas as pd\n",
    "import requests\n",
    "import json\n",
    "import numpy as np\n",
    "import os\n",
    "import sqlite3\n",
    "def get_forecast_weather_data(api,city_name,city_id,forecast):\n",
    "    url=\"https://api.weatherbit.io/v2.0/forecast/hourly?city_id=\"+city_id+\"&key=\"+api+\"&hours=\"+str(forecast+2)\n",
    "    print(url) #take 2 hours more based on api location and Istanbul time\n",
    "    response = requests.get(url)\n",
    "    d = json.loads(response.text)\n",
    "    datetime = [i[\"datetime\"] for i in d[\"data\"]]\n",
    "    humidity = [i[\"rh\"] for i in d[\"data\"]]\n",
    "    temp = [i[\"temp\"] for i in d[\"data\"]]\n",
    "\n",
    "    data=pd.DataFrame()\n",
    "    data[\"Tarih\"]=datetime\n",
    "    data[city_name+\"_temp\"]=temp\n",
    "    data[city_name+\"_humidity\"]=humidity\n",
    "    return data.iloc[2:]  # take 2 forward based on api location and Istanbul time\n"
   ],
   "outputs": []
  },
  {
   "cell_type": "code",
   "execution_count": 38,
   "metadata": {
    "pycharm": {
     "name": "#%%\n"
    }
   },
   "source": [
    "\n",
    "api = \"29385959e9174a32a43ef841beca77qw\"\n",
    "\n",
    "IstanbulAnadolu = get_forecast_weather_data(api,\"Istanbul_anadolu\",'745044',24)\n",
    "IstanbulAvrupa  = get_forecast_weather_data(api,\"Istanbul_avrupa\",'745044',24)\n",
    "Bursa           = get_forecast_weather_data(api,\"Bursa\",'750269',24)\n",
    "forecast_weather_orj = pd.concat([IstanbulAnadolu,IstanbulAvrupa,Bursa],axis=1)\n",
    "\n",
    "forecast_weather=forecast_weather_orj.copy()\n",
    "forecast_weather[\"Tarih\"]=forecast_weather.pop(\"Tarih\").iloc[:,1]\n",
    "\n",
    "forecast_weather.Tarih=forecast_weather.Tarih.apply(lambda x: pd.to_datetime(x[:10]+\" \"+str(x[-2:])+ \":00\"))\n"
   ],
   "outputs": []
  },
  {
   "cell_type": "code",
   "execution_count": 39,
   "metadata": {
    "pycharm": {
     "name": "#%%\n"
    }
   },
   "source": [
    "historical_weather"
   ],
   "outputs": []
  },
  {
   "cell_type": "code",
   "execution_count": 40,
   "metadata": {
    "pycharm": {
     "name": "#%%\n"
    }
   },
   "source": [
    "forecast_weather"
   ],
   "outputs": []
  },
  {
   "cell_type": "code",
   "execution_count": 41,
   "metadata": {
    "pycharm": {
     "name": "#%%\n"
    }
   },
   "source": [
    "final_data_ind = pd.merge(df_merged,historical_weather,how='inner',on='Tarih')\n"
   ],
   "outputs": []
  },
  {
   "cell_type": "code",
   "execution_count": 42,
   "metadata": {
    "pycharm": {
     "name": "#%%\n"
    }
   },
   "source": [
    "final_data_ind"
   ],
   "outputs": []
  },
  {
   "cell_type": "code",
   "execution_count": 43,
   "metadata": {
    "pycharm": {
     "name": "#%%\n"
    }
   },
   "source": [
    "final_data_ind.to_csv(\"smfdb_with_weather.csv\")"
   ],
   "outputs": []
  }
 ],
 "metadata": {
  "kernelspec": {
   "display_name": "Python 3 (ipykernel)",
   "language": "python",
   "name": "python3"
  },
  "language_info": {
   "codemirror_mode": {
    "name": "ipython",
    "version": 3
   },
   "file_extension": ".py",
   "mimetype": "text/x-python",
   "name": "python",
   "nbconvert_exporter": "python",
   "pygments_lexer": "ipython3",
   "version": "3.9.16"
  }
 },
 "nbformat": 4,
 "nbformat_minor": 1
}
