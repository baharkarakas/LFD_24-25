{
 "cells": [
  {
   "metadata": {
    "ExecuteTime": {
     "end_time": "2025-01-14T19:49:16.282259Z",
     "start_time": "2025-01-14T19:48:39.733573Z"
    }
   },
   "cell_type": "code",
   "source": [
    "from src.data.collectors import get_hourly_weather_data\n",
    "\n",
    "# Şehirler ve koordinatları\n",
    "cities = {\n",
    "    \"Istanbul\": (41.0082, 28.9784),\n",
    "    \"Izmir\": (38.4192, 27.1287),\n",
    "    \"Samsun\": (41.2867, 36.33),\n",
    "    \"Antalya\": (36.8969, 30.7133),\n",
    "    \"Sivas\": (39.7500, 37.0161),\n",
    "    \"Diyarbakır\": (37.9254, 40.2114),\n",
    "    \"Erzurum\": (39.9042, 41.2670)\n",
    "}\n",
    "\n",
    "# Tarih aralığı\n",
    "start_date = \"2019-01-01\"\n",
    "end_date = \"2023-08-28\"\n",
    "\n",
    "# Saatlik verileri çek\n",
    "hourly_weather_data = get_hourly_weather_data(cities, start_date, end_date)\n",
    "\n",
    "# İlk birkaç satırı kontrol et\n",
    "print(hourly_weather_data.head())\n",
    "\n",
    "# Verileri CSV olarak kaydet\n",
    "hourly_weather_data.to_csv('hourly_weather_data.csv', index=False)\n"
   ],
   "id": "26134e54798386c7",
   "execution_count": 1,
   "outputs": []
  },
  {
   "metadata": {
    "ExecuteTime": {
     "end_time": "2025-01-14T19:54:11.712930Z",
     "start_time": "2025-01-14T19:54:09.266262Z"
    }
   },
   "cell_type": "code",
   "source": [
    "import pandas as pd\n",
    "\n",
    "# CSV dosyalarını yükleyin\n",
    "hourly_weather_data = pd.read_csv('hourly_weather_data.csv')\n",
    "smfdb_data = pd.read_csv('smfdb.csv')\n",
    "\n",
    "# Tarih sütunlarını datetime formatına dönüştürün\n",
    "hourly_weather_data['datetime'] = pd.to_datetime(hourly_weather_data['datetime'])  # Format belirtmeye gerek yok\n",
    "smfdb_data['Tarih'] = pd.to_datetime(smfdb_data['Tarih'], format='%d/%m/%Y %H:%M')  # Bu format uygun görünüyor\n",
    "\n",
    "# Tarihe göre birleştirme\n",
    "merged_data = pd.merge(hourly_weather_data, smfdb_data, left_on='datetime', right_on='Tarih', how='inner')\n",
    "\n",
    "# Birleştirilen veri setini kaydedin\n",
    "merged_data.to_csv('merged_dataset.csv', index=False)\n",
    "\n",
    "# İlk birkaç satırı kontrol edin\n",
    "print(merged_data.head())\n"
   ],
   "id": "a6dc922fb706ef5",
   "execution_count": 1,
   "outputs": []
  },
  {
   "metadata": {
    "ExecuteTime": {
     "end_time": "2025-01-13T19:29:29.231243Z",
     "start_time": "2025-01-13T19:29:26.265229Z"
    }
   },
   "cell_type": "code",
   "source": [
    "import pandas as pd\n",
    "\n",
    "# Birleştirilmiş veri setini yükleyin\n",
    "merged_data = pd.read_csv('merged_dataset.csv')\n",
    "\n",
    "# datetime ve Tarih sütunlarının eşit olup olmadığını kontrol edin\n",
    "if merged_data['datetime'].equals(merged_data['Tarih']):\n",
    "    # Eğer eşitse 'Tarih' sütununu kaldır\n",
    "    merged_data.drop(columns=['Tarih'], inplace=True)\n",
    "else:\n",
    "    print(\"datetime ve Tarih sütunları farklı değerler içeriyor!\")\n",
    "\n",
    "# Yeni veri setini kaydet\n",
    "merged_data.to_csv('merged_dataset_cleaned.csv', index=False)\n",
    "\n",
    "# İlk birkaç satırı kontrol et\n",
    "print(merged_data.head())\n"
   ],
   "id": "c311be8857c98ed0",
   "execution_count": 1,
   "outputs": []
  },
  {
   "metadata": {
    "ExecuteTime": {
     "end_time": "2025-01-14T19:55:45.714701Z",
     "start_time": "2025-01-14T19:55:43.606201Z"
    }
   },
   "cell_type": "code",
   "source": [
    "import pandas as pd\n",
    "\n",
    "# Birleştirilmiş veri setini yükleyin\n",
    "merged_data = pd.read_csv('merged_dataset.csv')\n",
    "\n",
    "# datetime ve Tarih sütunlarının eşit olup olmadığını kontrol et\n",
    "if merged_data['datetime'].equals(merged_data['Tarih']):\n",
    "    # 'datetime' sütununu kaldır, çünkü 'Tarih' zaten var\n",
    "    merged_data.drop(columns=['datetime'], inplace=True)\n",
    "\n",
    "# 'Tarih' sütununu en başa taşı\n",
    "columns_order = ['Tarih'] + [col for col in merged_data.columns if col != 'Tarih']\n",
    "\n",
    "# Sütun sıralamasını SMF veri setindeki sütunlar önce, hava durumu sütunları sonra olacak şekilde düzenle\n",
    "smf_columns = [col for col in merged_data.columns if col not in ['Tarih'] and 'temp' not in col and 'rhum' not in col and 'wspd' not in col and 'wdir' not in col]\n",
    "weather_columns = [col for col in merged_data.columns if col not in smf_columns and col != 'Tarih']\n",
    "\n",
    "columns_order = ['Tarih'] + smf_columns + weather_columns\n",
    "merged_data = merged_data[columns_order]\n",
    "\n",
    "# Yeni veri setini kaydet\n",
    "merged_data.to_csv('merged_dataset_inorder.csv', index=False)\n",
    "\n",
    "# İlk birkaç satırı kontrol et\n",
    "print(merged_data.head())\n"
   ],
   "id": "f0c5938a86931c16",
   "execution_count": 1,
   "outputs": []
  },
  {
   "metadata": {},
   "cell_type": "code",
   "execution_count": null,
   "source": "",
   "id": "a7a8939d109013a6",
   "outputs": []
  }
 ],
 "metadata": {
  "kernelspec": {
   "display_name": "Python 3",
   "language": "python",
   "name": "python3"
  },
  "language_info": {
   "codemirror_mode": {
    "name": "ipython",
    "version": 2
   },
   "file_extension": ".py",
   "mimetype": "text/x-python",
   "name": "python",
   "nbconvert_exporter": "python",
   "pygments_lexer": "ipython2",
   "version": "2.7.6"
  }
 },
 "nbformat": 4,
 "nbformat_minor": 5
}
